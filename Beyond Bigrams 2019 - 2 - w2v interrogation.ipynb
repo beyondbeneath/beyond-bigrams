{
 "cells": [
  {
   "cell_type": "code",
   "execution_count": 1,
   "metadata": {},
   "outputs": [],
   "source": [
    "import gensim\n",
    "w2v_path = 'data/GoogleNews-vectors-negative300.bin'\n",
    "w2v_model = gensim.models.KeyedVectors.load_word2vec_format(w2v_path, binary=True)"
   ]
  },
  {
   "cell_type": "code",
   "execution_count": 2,
   "metadata": {},
   "outputs": [],
   "source": [
    "# Put the vocab into a dictionary\n",
    "w2c = {}\n",
    "for item in w2v_model.vocab:\n",
    "    w2c[item] = w2v_model.vocab[item].count"
   ]
  },
  {
   "cell_type": "code",
   "execution_count": 9,
   "metadata": {},
   "outputs": [
    {
     "name": "stdout",
     "output_type": "stream",
     "text": [
      "Atlassian\n",
      "Atlassian_JIRA\n",
      "Astreya_Atlassian_Aztecsoft_Azul\n",
      "Atlassian_Software\n",
      "Atlassian_Confluence\n",
      "JIRA\n",
      "GOJIRA\n",
      "JIRA_Studio\n",
      "Atlassian_JIRA\n",
      "JIRA_MultiSite\n"
     ]
    }
   ],
   "source": [
    "# Examples of word2vec weirdness\n",
    "a1 = [k for k in w2v_model.vocab if 'atlassian' in k.lower()]\n",
    "for token in a1: print(token)\n",
    "\n",
    "a2 = [k for k in w2v_model.vocab if 'JIRA' in k]\n",
    "for token in a2: print(token)"
   ]
  },
  {
   "cell_type": "code",
   "execution_count": 7,
   "metadata": {},
   "outputs": [
    {
     "name": "stdout",
     "output_type": "stream",
     "text": [
      "New_York             2999700\n",
      "United_States        2999591\n",
      "per_cent             2999449\n",
      "_                    2998882\n",
      "Associated_Press     2998870\n",
      "Los_Angeles          2998747\n",
      "health_care          2998716\n",
      "looking_statements   2998706\n",
      "White_House          2998584\n",
      "High_School          2998573\n",
      "e_mail               2998529\n",
      "vice_president       2998463\n",
      "World_Cup            2998348\n",
      "Web_site             2998244\n",
      "chief_executive      2998149\n",
      "New_Zealand          2998068\n",
      "Supreme_Court        2997977\n",
      "real_estate          2997962\n",
      "NEW_YORK             2997949\n",
      "San_Francisco        2997937\n"
     ]
    }
   ],
   "source": [
    "bigrams = [k for k in w2v_model.vocab if '_' in k.lower()]\n",
    "for w in bigrams[0:20]:\n",
    "    print(w.ljust(20,' '), w2c[w])"
   ]
  }
 ],
 "metadata": {
  "kernelspec": {
   "display_name": "Python [conda root]",
   "language": "python",
   "name": "conda-root-py"
  },
  "language_info": {
   "codemirror_mode": {
    "name": "ipython",
    "version": 3
   },
   "file_extension": ".py",
   "mimetype": "text/x-python",
   "name": "python",
   "nbconvert_exporter": "python",
   "pygments_lexer": "ipython3",
   "version": "3.6.4"
  }
 },
 "nbformat": 4,
 "nbformat_minor": 2
}
